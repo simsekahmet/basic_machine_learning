{
  "nbformat": 4,
  "nbformat_minor": 0,
  "metadata": {
    "colab": {
      "provenance": [],
      "authorship_tag": "ABX9TyOUE2bJA1D2iodNirerCema",
      "include_colab_link": true
    },
    "kernelspec": {
      "name": "python3",
      "display_name": "Python 3"
    },
    "language_info": {
      "name": "python"
    }
  },
  "cells": [
    {
      "cell_type": "markdown",
      "metadata": {
        "id": "view-in-github",
        "colab_type": "text"
      },
      "source": [
        "<a href=\"https://colab.research.google.com/github/simsekahmet/basic_machine_learning/blob/main/Basic_ML.ipynb\" target=\"_parent\"><img src=\"https://colab.research.google.com/assets/colab-badge.svg\" alt=\"Open In Colab\"/></a>"
      ]
    },
    {
      "cell_type": "code",
      "execution_count": null,
      "metadata": {
        "id": "WUYuiD-Tftsb"
      },
      "outputs": [],
      "source": [
        "import numpy as np\n",
        "import seaborn as sns\n",
        "import matplotlib.pyplot as plt\n",
        "sns.set()\n",
        "\n",
        "def basic_ML(obs, w1, w2, b, epoch, init_var = 0.1, learning_rate = 0.01):\n",
        "    \"\"\"Basic machine learning tool. Forecast your weights and biases with iteration.\n",
        "\n",
        "    --------------------\n",
        "    Args:\n",
        "        obs (int): shape of row of xs, zs (target function)\n",
        "        w1 (int, float): weights of xs\n",
        "        w2 (int, float): weights of zs\n",
        "        b (int, float): bias of target function\n",
        "        epoch (int): number of iteration\n",
        "        init_var (float, optional): first initialize limits of weights. Defaults to 0.1.\n",
        "        learning_rate (float, optional): the step size or the magnitude of the loss function updates. Defaults to 0.01.\n",
        "\n",
        "    --------------------\n",
        "    Return:\n",
        "        weights (numpy.ndarray): Final weights of iteration\n",
        "        bias (numpy.ndarray): Final bias of iteration\n",
        "\n",
        "    --------------------\n",
        "    Notes:\n",
        "        target = w1*xs + w2*zs + b + noise\n",
        "\n",
        "    --------------------\n",
        "    Example:\n",
        "        weights, bias = basic_ML(obs=10, w1=3, w2=4, b=3, epoch=400)\n",
        "    \"\"\"\n",
        "\n",
        "    xs = np.random.uniform(-10,\n",
        "                            10,\n",
        "                            size=(obs,1))\n",
        "    zs = np.random.uniform(-10,\n",
        "                            10,\n",
        "                            size=(obs,1))\n",
        "    input = np.column_stack((xs, zs))\n",
        "    noise = np.random.uniform(-1,\n",
        "                                1,\n",
        "                                size=(obs,1))\n",
        "\n",
        "    target = w1*xs + w2*zs + b + noise\n",
        "\n",
        "    weights = np.random.uniform(-init_var,\n",
        "                                init_var,\n",
        "                                size = (2, 1))\n",
        "    bias = np.random.uniform(-init_var,\n",
        "                            init_var,\n",
        "                            size = 1)\n",
        "\n",
        "    loss=[]\n",
        "    for i in range(epoch):\n",
        "        output = np.dot(input, weights) + bias\n",
        "        deltas = output - target\n",
        "        loss.append(np.sum(deltas**2) / 2 / obs)\n",
        "\n",
        "        deltas_scaled = deltas/obs\n",
        "        weights = weights - learning_rate*np.dot(input.T, deltas_scaled)\n",
        "        bias = bias - learning_rate*np.sum(deltas_scaled)\n",
        "\n",
        "    plt.plot(loss)\n",
        "    plt.xlabel(\"number of iteration\")\n",
        "    plt.ylabel(\"loss value\")\n",
        "    plt.title(\"Basic ML loss function\")\n",
        "    #plt.xlim(0)\n",
        "    #plt.ylim(0)\n",
        "    print(\"Weights:\", weights, \"biases:\", bias)\n",
        "    return weights, bias"
      ]
    },
    {
      "cell_type": "code",
      "source": [
        "weights, bias = basic_ML(obs=10, w1=3, w2=4, b=3, epoch=400)"
      ],
      "metadata": {
        "id": "F4gdvui24_Ju"
      },
      "execution_count": null,
      "outputs": []
    }
  ]
}
